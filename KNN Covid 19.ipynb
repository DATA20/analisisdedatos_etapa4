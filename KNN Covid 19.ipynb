{
 "cells": [
  {
   "cell_type": "code",
   "execution_count": 14,
   "id": "b65c10a4",
   "metadata": {},
   "outputs": [],
   "source": [
    "import pandas as pd\n",
    "from sklearn.model_selection import train_test_split\n",
    "from sklearn.neighbors import KNeighborsClassifier\n",
    "from sklearn.metrics import accuracy_score\n",
    "\n",
    "# Cargar el archivo csv en un DataFrame\n",
    "df = pd.read_csv('covid.csv')\n",
    "\n",
    "# Cargar el archivo csv en un DataFrame\n",
    "pd.read_csv('covid.csv')\n",
    "df = pd.read_csv('covid.csv')\n",
    "\n",
    "# Eliminar las columnas que no necesitas\n",
    "columnas_a_eliminar = ['id','patient_type','entry_date','date_symptoms','date_died','other_disease','icu']\n",
    "df.drop(columnas_a_eliminar, axis=1, inplace=True)\n",
    "\n",
    "#Filtrar las filas y eliminar aquellas que tengan el valor 3 en la columna covid_res\n",
    "df=df[df['covid_res'] !=3]\n",
    "\n",
    "#Filtrar las filas y eliminar aquellas que tengan el valor 3 en la columna covid_res\n",
    "df=df[df['contact_other_covid'] !=99]\n",
    "\n",
    "#Filtrar las filas y eliminar aquellas que tengan el valor 3 en la columna covid_res\n",
    "df=df[df['tobacco'] !=98]\n",
    "\n",
    "#Filtrar las filas y eliminar aquellas que tengan el valor 3 en la columna covid_res\n",
    "df=df[df['renal_chronic'] !=98]\n",
    "\n",
    "#Filtrar las filas y eliminar aquellas que tengan el valor 3 en la columna covid_res\n",
    "df=df[df['obesity'] !=98]\n",
    "\n",
    "#Filtrar las filas y eliminar aquellas que tengan el valor 3 en la columna covid_res\n",
    "df=df[df['cardiovascular'] !=98]\n",
    "\n",
    "#Filtrar las filas y eliminar aquellas que tengan el valor 3 en la columna covid_res\n",
    "df=df[df['hypertension'] !=98]\n",
    "\n",
    "#Filtrar las filas y eliminar aquellas que tengan el valor 3 en la columna covid_res\n",
    "df=df[df['inmsupr'] !=98]\n",
    "\n",
    "#Filtrar las filas y eliminar aquellas que tengan el valor 3 en la columna covid_res\n",
    "df=df[df['asthma'] !=98]\n",
    "\n",
    "#Filtrar las filas y eliminar aquellas que tengan el valor 3 en la columna covid_res\n",
    "df=df[df['copd'] !=98]\n",
    "\n",
    "#Filtrar las filas y eliminar aquellas que tengan el valor 3 en la columna covid_res\n",
    "df=df[df['diabetes'] !=98]\n",
    "\n",
    "#Filtrar las filas y eliminar aquellas que tengan el valor 3 en la columna covid_res\n",
    "df=df[df['pregnancy'] !=97]\n",
    "\n",
    "#Filtrar las filas y eliminar aquellas que tengan el valor 3 en la columna covid_res\n",
    "df=df[df['pneumonia'] !=99]\n",
    "\n",
    "#Filtrar las filas y eliminar aquellas que tengan el valor 3 en la columna covid_res\n",
    "df=df[df['intubed'] !=97]\n"
   ]
  },
  {
   "cell_type": "code",
   "execution_count": 15,
   "id": "6808fcb3",
   "metadata": {},
   "outputs": [],
   "source": [
    "#Definir las caracteristicas y la variable objetivo\n",
    "x =  df.drop(['covid_res'], axis=1)\n",
    "y = df['covid_res']"
   ]
  },
  {
   "cell_type": "code",
   "execution_count": 16,
   "id": "b81b70f6",
   "metadata": {},
   "outputs": [],
   "source": [
    "# Dividir los datos en un conjunto de entrenamiento y un conjunto de prueba\n",
    "x_train, x_test, y_train, y_test = train_test_split(x, y, test_size=0.3, random_state=42)"
   ]
  },
  {
   "cell_type": "code",
   "execution_count": 18,
   "id": "fbbafebe",
   "metadata": {},
   "outputs": [],
   "source": [
    "# Crear el modelo de k vecinos más cercano\n",
    "model = KNeighborsClassifier(n_neighbors=5)"
   ]
  },
  {
   "cell_type": "code",
   "execution_count": 19,
   "id": "b1005b8e",
   "metadata": {},
   "outputs": [
    {
     "data": {
      "text/plain": [
       "KNeighborsClassifier()"
      ]
     },
     "execution_count": 19,
     "metadata": {},
     "output_type": "execute_result"
    }
   ],
   "source": [
    "# Entrenar el modelo con los datos entrenamiento\n",
    "model.fit(x_train, y_train)"
   ]
  },
  {
   "cell_type": "code",
   "execution_count": 20,
   "id": "02f9d1f8",
   "metadata": {},
   "outputs": [
    {
     "name": "stderr",
     "output_type": "stream",
     "text": [
      "C:\\Users\\FRANK\\anaconda3\\lib\\site-packages\\sklearn\\neighbors\\_classification.py:228: FutureWarning: Unlike other reduction functions (e.g. `skew`, `kurtosis`), the default behavior of `mode` typically preserves the axis it acts along. In SciPy 1.11.0, this behavior will change: the default value of `keepdims` will become False, the `axis` over which the statistic is taken will be eliminated, and the value None will no longer be accepted. Set `keepdims` to True or False to avoid this warning.\n",
      "  mode, _ = stats.mode(_y[neigh_ind, k], axis=1)\n"
     ]
    }
   ],
   "source": [
    "#Realizar predicciones con los datos de prueba\n",
    "y_pred = model.predict(x_test)"
   ]
  },
  {
   "cell_type": "code",
   "execution_count": 21,
   "id": "39d69ee7",
   "metadata": {},
   "outputs": [
    {
     "name": "stdout",
     "output_type": "stream",
     "text": [
      "Precisión del modelo:  0.6242100145843461\n"
     ]
    }
   ],
   "source": [
    "# Calcular la precisión del modelo\n",
    "accuracy = accuracy_score(y_test, y_pred)\n",
    "print('Precisión del modelo: ', accuracy)"
   ]
  },
  {
   "cell_type": "code",
   "execution_count": 25,
   "id": "0b7b50a5",
   "metadata": {},
   "outputs": [
    {
     "name": "stderr",
     "output_type": "stream",
     "text": [
      "C:\\Users\\FRANK\\anaconda3\\lib\\site-packages\\sklearn\\neighbors\\_classification.py:228: FutureWarning: Unlike other reduction functions (e.g. `skew`, `kurtosis`), the default behavior of `mode` typically preserves the axis it acts along. In SciPy 1.11.0, this behavior will change: the default value of `keepdims` will become False, the `axis` over which the statistic is taken will be eliminated, and the value None will no longer be accepted. Set `keepdims` to True or False to avoid this warning.\n",
      "  mode, _ = stats.mode(_y[neigh_ind, k], axis=1)\n"
     ]
    },
    {
     "name": "stdout",
     "output_type": "stream",
     "text": [
      "[[2747  846]\n",
      " [1473 1105]]\n"
     ]
    }
   ],
   "source": [
    "from sklearn.neighbors import KNeighborsClassifier\n",
    "from sklearn.metrics import confusion_matrix\n",
    "\n",
    "#Definir las columnas que se utilizarón como caracteristicas\n",
    "features = ['sex','intubed','pneumonia','age','pregnancy','diabetes','copd','asthma','inmsupr','hypertension','cardiovascular','obesity','renal_chronic','tobacco','contact_other_covid']\n",
    "\n",
    "# Definir la columna que se utilizara como objetivo\n",
    "target = 'covid_res'\n",
    "\n",
    "# Dividir el conjunto de datos en caracteristicas (x) y objetos (y)\n",
    "x = df[features]\n",
    "y = df[target]\n",
    "\n",
    "# Dividir el conjunto de datos en conjuntos de entrenamiento y prueba\n",
    "x_train, x_test, y_train, y_test = train_test_split(x, y, test_size=0.3, random_state=42)\n",
    "\n",
    "# Crear el modelo de KNN con un valor de k de 5\n",
    "knn = KNeighborsClassifier(n_neighbors=5)\n",
    "\n",
    "# Entrenar el modelo con el conjunto de entrenamiento\n",
    "knn.fit(x_train, y_train)\n",
    "\n",
    "# Realizar las predicciones con el conjunto de prueba \n",
    "y_pred = knn.predict(x_test)\n",
    "\n",
    "# Crear la matriz de confusión\n",
    "conf_mat = confusion_matrix(y_test, y_pred)\n",
    "\n",
    "# Imprimir la matriz de confusión\n",
    "print(conf_mat)"
   ]
  },
  {
   "cell_type": "code",
   "execution_count": 29,
   "id": "17ddcb7d",
   "metadata": {},
   "outputs": [
    {
     "data": {
      "image/png": "[encoded data removed]",
      "text/plain": [
       "<Figure size 600x400 with 2 Axes>"
      ]
     },
     "metadata": {},
     "output_type": "display_data"
    }
   ],
   "source": [
    "import matplotlib.pyplot as plt\n",
    "import seaborn as sns\n",
    "\n",
    "# Crear una figura para la matriz de confusión\n",
    "fig, ax = plt.subplots(figsize=(6, 4))\n",
    "\n",
    "# Crear la matriz de confusión utilizando la función heatmap de seaborn\n",
    "sns.heatmap(conf_mat, annot=True, cmap=\"Blues\", fmt=\"d\", xticklabels=[\"Negativo\",\"Positivo\"], yticklabels=[\"Negativo\",\"Positivo\"])\n",
    "\n",
    "# Configurar las etiquetas de los ejes\n",
    "ax.set_xlabel('Predicción')\n",
    "ax.set_ylabel('Valor real')\n",
    "ax.set_title('Matriz de confusión')\n",
    "\n",
    "# Mostrar la figura\n",
    "plt.show()\n"
   ]
  },
  {
   "cell_type": "code",
   "execution_count": null,
   "id": "f3abb03a",
   "metadata": {},
   "outputs": [],
   "source": []
  }
 ],
 "metadata": {
  "kernelspec": {
   "display_name": "Python 3 (ipykernel)",
   "language": "python",
   "name": "python3"
  },
  "language_info": {
   "codemirror_mode": {
    "name": "ipython",
    "version": 3
   },
   "file_extension": ".py",
   "mimetype": "text/x-python",
   "name": "python",
   "nbconvert_exporter": "python",
   "pygments_lexer": "ipython3",
   "version": "3.9.13"
  }
 },
 "nbformat": 4,
 "nbformat_minor": 5
}
