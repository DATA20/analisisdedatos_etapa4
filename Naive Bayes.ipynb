{
 "cells": [
  {
   "cell_type": "code",
   "execution_count": 1,
   "id": "e5072b47",
   "metadata": {},
   "outputs": [],
   "source": [
    "#definimos las probabilidades condicioonales de los sintomas dados covid-19\n",
    "\n",
    "P_fatiga_given_covid= 0.90\n",
    "P_tos_seca_given_covid= 0.70\n",
    "P_dificultad_respirar_given_covid= 0.50\n",
    "P_dolor_garganta_given_covid= 0.60\n",
    "P_dolor_cabeza_given_covid= 0.60\n",
    "P_dolor_cuerpo_given_covid= 0.40\n",
    "P_escalofrios_given_covid= 0.50\n",
    "P_secrecion_nasal_given_covid= 0.20\n",
    "P_perdida_sentido_given_covid= 0.50\n",
    "P_fiebre_given_covid= 0.80\n",
    "P_dolor_pecho_given_covid = 0.40"
   ]
  },
  {
   "cell_type": "code",
   "execution_count": 2,
   "id": "4abfe0fc",
   "metadata": {},
   "outputs": [],
   "source": [
    "#definimos la prevalencia de covid-19 en la poblacion\n",
    "\n",
    "P_covid= 0.10"
   ]
  },
  {
   "cell_type": "code",
   "execution_count": 3,
   "id": "ec484941",
   "metadata": {},
   "outputs": [],
   "source": [
    "#Definir los sintomas observados en el paciente\n",
    "\n",
    "sintomas= ['Fatiga', 'Tos seca','Dificultad para respirar','Dolor de garganta'\n",
    "           ,'Dolor de cabeza','Dolor en el cuerpo','escalofrios','Secrecion nasal'\n",
    "           ,'Perdida del sentido del olfato o del gusto','Fiebre','Dolor de pecho']"
   ]
  },
  {
   "cell_type": "code",
   "execution_count": 5,
   "id": "4237b2c9",
   "metadata": {},
   "outputs": [
    {
     "name": "stdout",
     "output_type": "stream",
     "text": [
      "la probabilidad de que el paciente tenga COVID-19 dados los sintomas es:0.9999998759920788\n"
     ]
    }
   ],
   "source": [
    "#calculamos la probabilidad de que el paciente tenga covid-19\n",
    "\n",
    "P_sintomas_given_covid = P_fatiga_given_covid * P_tos_seca_given_covid * P_dificultad_respirar_given_covid * \\\n",
    "P_dolor_garganta_given_covid * P_dolor_cabeza_given_covid * P_dolor_cuerpo_given_covid * \\\n",
    "P_escalofrios_given_covid * P_secrecion_nasal_given_covid * P_perdida_sentido_given_covid * \\\n",
    "P_fiebre_given_covid * P_dolor_pecho_given_covid\n",
    "\n",
    "P_sintomas_given_no_covid = 0.10 ** 11 #asumimos que la probabilidad de tener estos sintomas sin covid-19 es muy baja\n",
    "\n",
    "P_sintomas= P_sintomas_given_covid * P_covid + P_sintomas_given_no_covid * (1-P_covid)\n",
    "\n",
    "P_covid_given_sintomas = P_sintomas_given_covid * P_covid/P_sintomas\n",
    "\n",
    "print(f\"la probabilidad de que el paciente tenga COVID-19 dados los sintomas es:{P_covid_given_sintomas}\")\n",
    "\n"
   ]
  },
  {
   "cell_type": "code",
   "execution_count": null,
   "id": "a995a511",
   "metadata": {},
   "outputs": [],
   "source": []
  }
 ],
 "metadata": {
  "kernelspec": {
   "display_name": "Python 3 (ipykernel)",
   "language": "python",
   "name": "python3"
  },
  "language_info": {
   "codemirror_mode": {
    "name": "ipython",
    "version": 3
   },
   "file_extension": ".py",
   "mimetype": "text/x-python",
   "name": "python",
   "nbconvert_exporter": "python",
   "pygments_lexer": "ipython3",
   "version": "3.10.9"
  }
 },
 "nbformat": 4,
 "nbformat_minor": 5
}
